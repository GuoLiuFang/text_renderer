{
 "cells": [
  {
   "cell_type": "code",
   "execution_count": 1,
   "metadata": {},
   "outputs": [
    {
     "name": "stdout",
     "output_type": "stream",
     "text": [
      "usage: main.py [-h] [--num_img NUM_IMG] [--length LENGTH] [--clip_max_chars]\n",
      "               [--img_height IMG_HEIGHT] [--img_width IMG_WIDTH]\n",
      "               [--chars_file CHARS_FILE] [--config_file CONFIG_FILE]\n",
      "               [--fonts_list FONTS_LIST] [--bg_dir BG_DIR]\n",
      "               [--corpus_dir CORPUS_DIR] [--corpus_mode {random,chn,eng,list}]\n",
      "               [--output_dir OUTPUT_DIR] [--tag TAG] [--debug] [--viz]\n",
      "               [--strict] [--gpu] [--num_processes NUM_PROCESSES]\n",
      "\n",
      "optional arguments:\n",
      "  -h, --help            show this help message and exit\n",
      "  --num_img NUM_IMG     Number of images to generate\n",
      "  --length LENGTH       Chars(chn) or words(eng) in a image. For eng corpus\n",
      "                        mode, default length is 3\n",
      "  --clip_max_chars      For training a CRNN model, max number of chars in an\n",
      "                        imageshould less then the width of last CNN layer.\n",
      "  --img_height IMG_HEIGHT\n",
      "  --img_width IMG_WIDTH\n",
      "                        If 0, output images will have different width\n",
      "  --chars_file CHARS_FILE\n",
      "                        Chars allowed to be appear in generated images.\n",
      "  --config_file CONFIG_FILE\n",
      "                        Set the parameters when rendering images\n",
      "  --fonts_list FONTS_LIST\n",
      "                        Fonts file path to use\n",
      "  --bg_dir BG_DIR       Some text images(according to your config in yaml\n",
      "                        file) willuse pictures in this folder as background\n",
      "  --corpus_dir CORPUS_DIR\n",
      "                        When corpus_mode is chn or eng, text on image will\n",
      "                        randomly selected from corpus.Recursively find all txt\n",
      "                        file in corpus_dir\n",
      "  --corpus_mode {random,chn,eng,list}\n",
      "                        Different corpus type have different load/get_sample\n",
      "                        methodrandom: random pick chars from chars filechn:\n",
      "                        pick continuous chars from corpuseng: pick continuous\n",
      "                        words from corpus, space is included in label\n",
      "  --output_dir OUTPUT_DIR\n",
      "                        Images save dir\n",
      "  --tag TAG             output images are saved under output_dir/{tag} dir\n",
      "  --debug               output uncroped image\n",
      "  --viz\n",
      "  --strict              check font supported chars when generating images\n",
      "  --gpu                 use CUDA to generate image\n",
      "  --num_processes NUM_PROCESSES\n",
      "                        Number of processes to generate image. If None, use\n",
      "                        all cpu cores\n"
     ]
    }
   ],
   "source": [
    "%run -i ./main.py --help"
   ]
  },
  {
   "cell_type": "code",
   "execution_count": 2,
   "metadata": {},
   "outputs": [
    {
     "name": "stdout",
     "output_type": "stream",
     "text": [
      "Total fonts num: 1\n",
      "Background num: 1\n",
      "Loading corpus from: ./data/list_corpus\n",
      "Loading chn corpus: 1/1\n",
      "Generate text images in ./output/mix_test/default\n",
      "Finish generate data: 479.181 s\n"
     ]
    }
   ],
   "source": [
    "%run -i main.py --num_img 1000000 --lengt=34 --img_height 22 --img_width 469 corpus_mode list --corpus_dir ./data/list_corpus  --output_dir ./output/mix_test/                \n",
    "\n",
    "\n",
    "\n",
    "\n",
    "\n",
    "\n",
    "\n"
   ]
  },
  {
   "cell_type": "code",
   "execution_count": null,
   "metadata": {},
   "outputs": [],
   "source": []
  }
 ],
 "metadata": {
  "kernelspec": {
   "display_name": "Python 3",
   "language": "python",
   "name": "python3"
  },
  "language_info": {
   "codemirror_mode": {
    "name": "ipython",
    "version": 3
   },
   "file_extension": ".py",
   "mimetype": "text/x-python",
   "name": "python",
   "nbconvert_exporter": "python",
   "pygments_lexer": "ipython3",
   "version": "3.6.7"
  }
 },
 "nbformat": 4,
 "nbformat_minor": 2
}
